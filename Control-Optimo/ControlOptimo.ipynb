{
  "nbformat": 4,
  "nbformat_minor": 0,
  "metadata": {
    "colab": {
      "provenance": [],
      "collapsed_sections": []
    },
    "kernelspec": {
      "name": "python3",
      "display_name": "Python 3"
    },
    "language_info": {
      "name": "python"
    }
  },
  "cells": [
    {
      "cell_type": "markdown",
      "metadata": {
        "id": "KNJxb6F9LGFN"
      },
      "source": [
        "## Control Óptimo "
      ]
    },
    {
      "cell_type": "code",
      "metadata": {
        "id": "2kdv_5lNLMSj"
      },
      "source": [
        "!pip install gekko"
      ],
      "execution_count": null,
      "outputs": []
    },
    {
      "cell_type": "markdown",
      "metadata": {
        "id": "Bgisq0Qyo-fM"
      },
      "source": [
        "$ max \\int_0^{10} (E-\\frac{c}{x})u \\cdot U_{max} \\; \\; dt $ \\\\\n",
        "sujeto a: \\\\\n",
        "$ \\frac{dx}{dt}= rx(t)(1-\\frac{x(t)}{k})-u \\cdot U_{max} $ \\\\\n",
        "x(0)= 70 \\\\\n",
        "$ 0 \\leq u(t) \\leq 1 $"
      ]
    },
    {
      "cell_type": "code",
      "metadata": {
        "colab": {
          "base_uri": "https://localhost:8080/",
          "height": 297
        },
        "id": "IybhZ4BvJPxz",
        "outputId": "bca28bfa-538a-4586-a8e6-eab9ad57a298"
      },
      "source": [
        "from gekko import GEKKO\n",
        "import numpy as np\n",
        "import matplotlib.pyplot as plt\n",
        "%matplotlib inline\n",
        "\n",
        "# Creamos el modelo \n",
        "c_op = GEKKO()\n",
        "\n",
        "# Puntos de nuestra partición\n",
        "n=500\n",
        "c_op.time = np.linspace(0,10,n)\n",
        "\n",
        "# Parámetros\n",
        "E,c,r,k,U_max = 1,17.5,0.71,80.5,20\n",
        "\n",
        "# Tasa de pesca\n",
        "u = c_op.MV(value=1,lb=0,ub=1)\n",
        "u.STATUS = 1\n",
        "u.DCOST = 0\n",
        "\n",
        "# Población inicial de peces\n",
        "x = c_op.Var(value=70) \n",
        "\n",
        "# Ecuación dinámica (evolución población de peces)\n",
        "c_op.Equation(x.dt() == r*x*(1-x/k)-u*U_max)\n",
        "\n",
        "J = c_op.Var(value=0) # Objetivo (ganancia/utilidad)\n",
        "Jf = c_op.FV() \n",
        "Jf.STATUS = 1\n",
        "c_op.Connection(Jf,J,pos2='end')\n",
        "c_op.Equation(J.dt() == (E-c/x)*u*U_max)\n",
        "c_op.Obj(-Jf) # maximize profit\n",
        "\n",
        "# Control Óptimo\n",
        "c_op.options.IMODE = 6  \n",
        "c_op.options.NODES = 3  \n",
        "c_op.options.SOLVER = 3 \n",
        "\n",
        "#Resolvemos el problema de optimización \n",
        "c_op.solve(disp=False) \n",
        "\n",
        "print('Optimal profit:  ' + str(Jf.value[0]))\n",
        "\n",
        "\n",
        "# Gráficos de los resultados\n",
        "plt.plot(c_op.time,J.value,'r--')\n",
        "plt.plot(c_op.time[-1],Jf.value[0],'ro',markersize=8)\n",
        "plt.plot(c_op.time,x.value,'b-')\n",
        "plt.xlabel('Time')\n",
        "plt.ylabel('Value')\n",
        "plt.legend(['Profit','Final profit= '+str(Jf.value[0]),'Fish population'],loc =\"upper left\")\n",
        "\n",
        "plt.plot(c_op.time,u.value,'k--')\n",
        "plt.ylabel('Rate')\n",
        "plt.xlabel('Time')\n",
        "plt.legend(['Fishing rate'],loc=\"upper center\")\n",
        "plt.show()"
      ],
      "execution_count": null,
      "outputs": [
        {
          "output_type": "stream",
          "name": "stdout",
          "text": [
            "Optimal profit:  106.90608357\n"
          ]
        },
        {
          "output_type": "display_data",
          "data": {
            "image/png": "[encoded data removed]",
            "text/plain": [
              "<Figure size 432x288 with 1 Axes>"
            ]
          },
          "metadata": {
            "needs_background": "light"
          }
        }
      ]
    }
  ]
}